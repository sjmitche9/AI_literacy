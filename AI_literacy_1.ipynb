{
 "cells": [
  {
   "cell_type": "markdown",
   "metadata": {},
   "source": [
    "### AI Literacy Exercise 1: APIs in Python\n",
    "\n",
    "Since this is your first AI Literacy exercise, it warrants a little explanation.  We can use AI to help us learn.  This isn't limited to learning how to code, but we can certainly make use of AI here.  We can use AI to help us understand Data Science concepts and potentially identify problems with our computers.  There's a lot of hype around using AI to generate code.  This can be a great tool, but must be approached with caution.  Approach AI tools with a \"learning first\" attitude.  These tools can help you learn, understand and ultimately generate code faster, but make sure that you understand everything that it gives you. Break your problem down into the smallest pieces that you can, and ask specific questions.  If you don't understand something, make this apparent to the AI.  If you use AI to generate very large blocks or entire assignments of code, not only will it be very obvious, but your coding won't improve, and you may need to code live at some point for a job interview.\n",
    "\n",
    "#### Learning Outcomes\n",
    "\n",
    "- Understand how AI can help you learn to code and help you write it\n",
    "- Understand how to build a get request\n",
    "- Understand how to add arguments to a get request\n",
    "- Understand how to parse a url or use a parameter dictionary for the request"
   ]
  },
  {
   "cell_type": "markdown",
   "metadata": {},
   "source": [
    "\n",
    "Read the following article to learn how AI can be used to help you learn coding and understand more about the limitations\n",
    "\n",
    "https://www.codecademy.com/resources/blog/can-chatgpt-ai-teach-you-to-code/"
   ]
  },
  {
   "cell_type": "markdown",
   "metadata": {},
   "source": [
    "In this activity you will learn how to use the Python requests library to make a get request.\n",
    "\n",
    "Use ChatGPT to answer the following questions:"
   ]
  },
  {
   "cell_type": "markdown",
   "metadata": {},
   "source": [
    "* What are the most common methods of the requests library?\n",
    "* What are the attributes of a response?\n",
    "* What is the most common form of a response?\n",
    "* How can I make a request to the following endpoint, without using a parameter dictionary, and check that it worked properly? https://reqres.in/api/users?page=1"
   ]
  },
  {
   "cell_type": "markdown",
   "metadata": {},
   "source": [
    "##### Make a get request to the users endpoint with the url from above."
   ]
  },
  {
   "cell_type": "code",
   "execution_count": 1,
   "metadata": {},
   "outputs": [],
   "source": [
    "import requests\n",
    "\n",
    "# make get request here, replace None with the code for the request:\n",
    "\n",
    "response = None\n",
    "\n",
    "# check that the request was successful here:\n",
    "\n",
    "# print the actual data from the response here:\n"
   ]
  },
  {
   "cell_type": "markdown",
   "metadata": {},
   "source": [
    "* What other information can I obtain from the users endpoint?\n",
    "* How are arguments typically used in a get request string?\n",
    "* What's the difference between using a string and a parameter dictionary for passing arguments?"
   ]
  },
  {
   "cell_type": "markdown",
   "metadata": {},
   "source": [
    "##### Verify that this get request returns the same information as your request from above:"
   ]
  },
  {
   "cell_type": "code",
   "execution_count": 2,
   "metadata": {},
   "outputs": [],
   "source": [
    "params = {\"page\": 1}\n",
    "response = requests.get(\"https://reqres.in/api/users\", params=params)\n",
    "\n",
    "# print the response here and compare it with the response from above"
   ]
  },
  {
   "cell_type": "markdown",
   "metadata": {},
   "source": [
    "what is an api?\n",
    "move the walkthrough to after the readings"
   ]
  },
  {
   "cell_type": "code",
   "execution_count": null,
   "metadata": {},
   "outputs": [],
   "source": [
    "response.json()"
   ]
  },
  {
   "cell_type": "code",
   "execution_count": null,
   "metadata": {},
   "outputs": [],
   "source": [
    "# run this cell to check that your respone is correct\n",
    "\n",
    "check_response = {'page': 1,\n",
    " 'per_page': 6,\n",
    " 'total': 12,\n",
    " 'total_pages': 2,\n",
    " 'data': [{'id': 1,\n",
    "   'email': 'george.bluth@reqres.in',\n",
    "   'first_name': 'George',\n",
    "   'last_name': 'Bluth',\n",
    "   'avatar': 'https://reqres.in/img/faces/1-image.jpg'},\n",
    "  {'id': 2,\n",
    "   'email': 'janet.weaver@reqres.in',\n",
    "   'first_name': 'Janet',\n",
    "   'last_name': 'Weaver',\n",
    "   'avatar': 'https://reqres.in/img/faces/2-image.jpg'},\n",
    "  {'id': 3,\n",
    "   'email': 'emma.wong@reqres.in',\n",
    "   'first_name': 'Emma',\n",
    "   'last_name': 'Wong',\n",
    "   'avatar': 'https://reqres.in/img/faces/3-image.jpg'},\n",
    "  {'id': 4,\n",
    "   'email': 'eve.holt@reqres.in',\n",
    "   'first_name': 'Eve',\n",
    "   'last_name': 'Holt',\n",
    "   'avatar': 'https://reqres.in/img/faces/4-image.jpg'},\n",
    "  {'id': 5,\n",
    "   'email': 'charles.morris@reqres.in',\n",
    "   'first_name': 'Charles',\n",
    "   'last_name': 'Morris',\n",
    "   'avatar': 'https://reqres.in/img/faces/5-image.jpg'},\n",
    "  {'id': 6,\n",
    "   'email': 'tracey.ramos@reqres.in',\n",
    "   'first_name': 'Tracey',\n",
    "   'last_name': 'Ramos',\n",
    "   'avatar': 'https://reqres.in/img/faces/6-image.jpg'}],\n",
    " 'support': {'url': 'https://reqres.in/#support-heading',\n",
    "  'text': 'To keep ReqRes free, contributions towards server costs are appreciated!'}}\n",
    "check_response"
   ]
  }
 ],
 "metadata": {
  "kernelspec": {
   "display_name": "Python 3",
   "language": "python",
   "name": "python3"
  },
  "language_info": {
   "codemirror_mode": {
    "name": "ipython",
    "version": 3
   },
   "file_extension": ".py",
   "mimetype": "text/x-python",
   "name": "python",
   "nbconvert_exporter": "python",
   "pygments_lexer": "ipython3",
   "version": "3.9.0"
  }
 },
 "nbformat": 4,
 "nbformat_minor": 2
}
