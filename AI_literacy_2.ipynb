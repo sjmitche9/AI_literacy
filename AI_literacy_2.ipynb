{
 "cells": [
  {
   "cell_type": "markdown",
   "metadata": {},
   "source": [
    "### AI Literacy Exercise 2: JSON Data\n",
    "\n",
    "In this activity you will build on AI Literacy Exercise 1 and dig into the structure of a json response. \\\n",
    "Note that these skills don't just apply to requests because data is commonly saved in json format and \\\n",
    "can be loaded from a json file which is what you'll do in your next assignment."
   ]
  },
  {
   "cell_type": "markdown",
   "metadata": {},
   "source": [
    "#### Learning Outcomes\n",
    "\n",
    "- Understand financial data so that you can answer the questions in the next assignment\n",
    "- Understand how to read and parse JSON data\n",
    "- Understand how AI can help with redundant tasks\n",
    "- Understand how to build queries to answer the questions from the Python dictionary converted from JSON\n",
    "- Load and wrangle JSON files\n",
    "- Convert JSON files to useful dataframes"
   ]
  },
  {
   "cell_type": "markdown",
   "metadata": {},
   "source": [
    "Make the following request:"
   ]
  },
  {
   "cell_type": "code",
   "execution_count": 1,
   "metadata": {},
   "outputs": [],
   "source": [
    "import requests\n",
    "import pandas as pd\n",
    "from pprint import pprint # this will display the data in a structured, more readable manner\n",
    "\n",
    "params = {\"page\": 1}\n",
    "response = requests.get(\"https://reqres.in/api/users\", params=params)\n",
    "\n",
    "data = response.json()"
   ]
  },
  {
   "cell_type": "markdown",
   "metadata": {},
   "source": [
    "##### Run the following two cells and compare how the output is displayed:"
   ]
  },
  {
   "cell_type": "code",
   "execution_count": null,
   "metadata": {},
   "outputs": [],
   "source": [
    "print(data)"
   ]
  },
  {
   "cell_type": "code",
   "execution_count": null,
   "metadata": {},
   "outputs": [],
   "source": [
    "pprint(data)"
   ]
  },
  {
   "cell_type": "markdown",
   "metadata": {},
   "source": [
    "##### Use ChatGPT to answer the following questions:"
   ]
  },
  {
   "cell_type": "markdown",
   "metadata": {},
   "source": [
    "* When I access the json method of the response, what form is the data in when I'm using Python?\n",
    "\n",
    "Copy the response printout from above and paste it after the following question:\n",
    "* What is the dictionary structure of this response? (paste response printout here)"
   ]
  },
  {
   "cell_type": "markdown",
   "metadata": {},
   "source": [
    "* What are some strategies for parsing json responses data to dataframes?\n",
    "    * note that using json normalize can be extremely complicated if you don't understand how to access each part of a dictionary manually and is not recommended for the next assignment.\n",
    "    * data from this response and data from the next assignment cannot be automatically converted to a dataframe like the following:"
   ]
  },
  {
   "cell_type": "code",
   "execution_count": null,
   "metadata": {},
   "outputs": [],
   "source": [
    "df = pd.DataFrame(data)"
   ]
  },
  {
   "cell_type": "markdown",
   "metadata": {},
   "source": [
    "Prompt ChatGPT with the following:\n",
    "* Provide an example of how to manually extract information from the \"data\" key from the previous response and save it in lists or dictionaries.\n",
    "* Note that once the \"data\" key has been accessed, you can automatically use pd.DataFrame(), but you'll need to iterate through the dictionaries in the next assignment."
   ]
  },
  {
   "cell_type": "markdown",
   "metadata": {},
   "source": [
    "Create a dataframe from the API response above with the following columns: ['avatar', 'email', 'first_name', 'id', 'last_name']"
   ]
  },
  {
   "cell_type": "code",
   "execution_count": null,
   "metadata": {},
   "outputs": [],
   "source": [
    "# create your dataframe here:"
   ]
  },
  {
   "cell_type": "markdown",
   "metadata": {},
   "source": [
    "#### Here are some questions to help you with the next assignment:\n",
    "- What are the common daily values for stock prices?\n",
    "- How can I load a json file in Python?\n",
    "- How does the keyword \"with\" work when opening a file?\n",
    "- When should I stop indenting after the \"with\" keyword?\n",
    "- What format is the loaded json once I use the json.load() function?"
   ]
  }
 ],
 "metadata": {
  "kernelspec": {
   "display_name": "Python 3",
   "language": "python",
   "name": "python3"
  },
  "language_info": {
   "codemirror_mode": {
    "name": "ipython",
    "version": 3
   },
   "file_extension": ".py",
   "mimetype": "text/x-python",
   "name": "python",
   "nbconvert_exporter": "python",
   "pygments_lexer": "ipython3",
   "version": "3.9.0"
  }
 },
 "nbformat": 4,
 "nbformat_minor": 2
}
